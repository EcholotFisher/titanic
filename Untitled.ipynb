{
 "cells": [
  {
   "cell_type": "code",
   "execution_count": 2,
   "metadata": {},
   "outputs": [
    {
     "data": {
      "image/png": "[encoded data removed]",
      "text/plain": [
       "<Figure size 432x288 with 1 Axes>"
      ]
     },
     "metadata": {
      "needs_background": "light"
     },
     "output_type": "display_data"
    }
   ],
   "source": [
    "from imageio import imread\n",
    "import matplotlib.pyplot as plt\n",
    "\n",
    "\n",
    "def plot_animal_tree(ax=None):\n",
    "    import graphviz\n",
    "    if ax is None:\n",
    "        ax = plt.gca()\n",
    "    mygraph = graphviz.Digraph(node_attr={'shape': 'box'},\n",
    "                               edge_attr={'labeldistance': \"10.5\"},\n",
    "                               format=\"png\")\n",
    "    mygraph.node(\"0\", \"Has feathers?\")\n",
    "    mygraph.node(\"1\", \"Can fly?\")\n",
    "    mygraph.node(\"2\", \"Has fins?\")\n",
    "    mygraph.node(\"3\", \"Hawk\")\n",
    "    mygraph.node(\"4\", \"Penguin\")\n",
    "    mygraph.node(\"5\", \"Dolphin\")\n",
    "    mygraph.node(\"6\", \"Bear\")\n",
    "    mygraph.edge(\"0\", \"1\", label=\"True\")\n",
    "    mygraph.edge(\"0\", \"2\", label=\"False\")\n",
    "    mygraph.edge(\"1\", \"3\", label=\"True\")\n",
    "    mygraph.edge(\"1\", \"4\", label=\"False\")\n",
    "    mygraph.edge(\"2\", \"5\", label=\"True\")\n",
    "    mygraph.edge(\"2\", \"6\", label=\"False\")\n",
    "    mygraph.render(\"tmp\")\n",
    "    ax.imshow(imread(\"tmp.png\"))\n",
    "    ax.set_axis_off()\n",
    "    \n",
    "plot_animal_tree()"
   ]
  },
  {
   "cell_type": "code",
   "execution_count": 4,
   "metadata": {},
   "outputs": [],
   "source": [
    "text = \"abcdef\""
   ]
  },
  {
   "cell_type": "code",
   "execution_count": 19,
   "metadata": {},
   "outputs": [],
   "source": [
    "a = \"\".join([a.upper() if b%2==0  else a for a,b in zip(text,range(len(text))) ])"
   ]
  },
  {
   "cell_type": "code",
   "execution_count": 21,
   "metadata": {},
   "outputs": [
    {
     "data": {
      "text/plain": [
       "'aBcDeF'"
      ]
     },
     "execution_count": 21,
     "metadata": {},
     "output_type": "execute_result"
    }
   ],
   "source": [
    "a.swapcase()"
   ]
  },
  {
   "cell_type": "code",
   "execution_count": 101,
   "metadata": {},
   "outputs": [
    {
     "data": {
      "text/plain": [
       "26"
      ]
     },
     "execution_count": 101,
     "metadata": {},
     "output_type": "execute_result"
    }
   ],
   "source": [
    "s = 'zodiacs'\n",
    "\n",
    "for a in \"aeiou\": s = s.replace(a,'|'); \n",
    "max(list(map(lambda b: sum([ord(a)-96 for a in b]),s.split('|'))))\n"
   ]
  },
  {
   "cell_type": "code",
   "execution_count": 65,
   "metadata": {},
   "outputs": [
    {
     "data": {
      "text/plain": [
       "['z', 'd', '', 'cs']"
      ]
     },
     "execution_count": 65,
     "metadata": {},
     "output_type": "execute_result"
    }
   ],
   "source": [
    "import re\n",
    "s.replace('a','|').replace('e','|').replace('i','|').replace('o','|').replace('u','|').split('|')"
   ]
  },
  {
   "cell_type": "code",
   "execution_count": 35,
   "metadata": {},
   "outputs": [
    {
     "data": {
      "text/plain": [
       "['z', 'd', 'c', 's']"
      ]
     },
     "execution_count": 35,
     "metadata": {},
     "output_type": "execute_result"
    }
   ],
   "source": [
    "[a  for a in s]\n",
    "[a for a in s if a not in \"aeiou\"]"
   ]
  }
 ],
 "metadata": {
  "kernelspec": {
   "display_name": "Python 3",
   "language": "python",
   "name": "python3"
  },
  "language_info": {
   "codemirror_mode": {
    "name": "ipython",
    "version": 3
   },
   "file_extension": ".py",
   "mimetype": "text/x-python",
   "name": "python",
   "nbconvert_exporter": "python",
   "pygments_lexer": "ipython3",
   "version": "3.7.4"
  }
 },
 "nbformat": 4,
 "nbformat_minor": 2
}
